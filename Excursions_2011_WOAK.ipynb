{
 "cells": [
  {
   "cell_type": "markdown",
   "metadata": {},
   "source": [
    "# Data Science Case Study: <br> Bay Area Rapid Transit's \"Excursion Fare\"\n"
   ]
  },
  {
   "cell_type": "markdown",
   "metadata": {},
   "source": [
    "\"BART’s Excursion Fare allows anyone to tour the BART system (all 44 stations) for up to three hours on a $5.75 fare,\n",
    "as long as you enter and exit at the same station.\" - excerpt from Bart Guide @ http://www.bart.gov/guide"
   ]
  },
  {
   "cell_type": "markdown",
   "metadata": {},
   "source": [
    "Depending on your level of experience using BART, this may or may not sound like an attractive option. I personally have incurred the excursion fee only by accident, on one or two occasions whereupon entering the station, I realized I had to go back to home or work or decided to use an alternative transportation. \n",
    "\n",
    "I started this data project to answer a very basic question: <br>\n",
    "\n",
    "*** Are 'excursions' a random manifestation of mistakes by BART users like myself, or are users intentionally electing to use the BART system? *** <br>\n",
    "\n",
    "Not knowing anyone from the latter case personally, I hope to answer this by inferring individual behavior from publicly-available aggregated BART ridership data. I also will to employ some skills I'm developing in data engineering/science, along with statistical/timeseries/data analysis.\n",
    "\n",
    "The main steps of the project will address the following, the first of which is tackled on this post:\n",
    "\n",
    "1. Is excursion data randomly distributed?\n",
    "* If it's not, are patterns to trips such as these?\n",
    "* What explanations are possible of these patterns?\n",
    "* What would I learn by sharing my research with others? "
   ]
  },
  {
   "cell_type": "markdown",
   "metadata": {},
   "source": [
    "# Source"
   ]
  },
  {
   "cell_type": "markdown",
   "metadata": {},
   "source": [
    "Bart is outstanding in its dedication to sharing data through its API and ridership reports http://64.111.127.166/ridership/\n",
    "<br>I used the ridership files that summarized every hour of every station's rides between the years 2011-2015\n",
    "\n",
    "An example of one of the files is ***date-hour-soo-dest-2011.csv.gz***<br>\n",
    "\n",
    "As suggested in its filename, it contains a csv summarizing passenger totals identified by the unique combination of date, hour, station of origin, and destination. Its decompressed size is approx 234 MB, containing 9M+ rows of comma separated values.\n",
    "\n",
    "\n"
   ]
  },
  {
   "cell_type": "markdown",
   "metadata": {},
   "source": [
    "# Data Storage "
   ]
  },
  {
   "cell_type": "markdown",
   "metadata": {},
   "source": [
    "To make the data more friendly for some of the transformations and analyses required later, I previously extracted/transformed it into a python dictionary of Pandas DataFrames. That collection is stored as a pickle object, (size of 516MB*), so loading takes a couple minutes:"
   ]
  },
  {
   "cell_type": "code",
   "execution_count": 1,
   "metadata": {
    "collapsed": true
   },
   "outputs": [],
   "source": [
    "import pandas as pd\n",
    "dfs = pd.read_pickle('data/combos_2011.pkl')"
   ]
  },
  {
   "cell_type": "markdown",
   "metadata": {},
   "source": [
    "**Why so large? The file is much larger than that of the sample data used here so that analyses can be repeated on other stations.*"
   ]
  },
  {
   "cell_type": "markdown",
   "metadata": {},
   "source": [
    "There are 1936 (44 x 44) unique trips possible, given origins and destinations from this station list: "
   ]
  },
  {
   "cell_type": "code",
   "execution_count": 2,
   "metadata": {
    "collapsed": false
   },
   "outputs": [
    {
     "name": "stdout",
     "output_type": "stream",
     "text": [
      "Total Stations : 44\n",
      "Total DataFrames:  1936\n"
     ]
    }
   ],
   "source": [
    "sta = ['16TH', '24TH', 'ASHB', 'BAYF', 'CIVC', 'COLS', 'CONC', 'DALY',\n",
    "       'DBRK', 'EMBR', 'FRMT', 'FTVL', 'HAYW', 'MCAR', 'MLBR', 'MONT',\n",
    "       'NBRK', 'PHIL', 'PITT', 'PLZA', 'POWL', 'ROCK', 'SANL', 'WCRK',\n",
    "       'WOAK', 'BALB', 'DELN', 'GLEN', 'LAFY', 'RICH', 'UCTY', '19TH',\n",
    "       'CAST', 'LAKE', 'SFIA', 'SHAY', 'DUBL', 'COLM', 'NCON', 'ORIN',\n",
    "       '12TH', 'SBRN', 'SSAN', 'WDUB']\n",
    "\n",
    "print 'Total Stations :', len(sta)\n",
    "print 'Total DataFrames: ', len(dfs)"
   ]
  },
  {
   "cell_type": "markdown",
   "metadata": {},
   "source": [
    "Each dataframe in the dictionary dfs has a key corresponding to one of these unique trips, in the form of a tuple:<br>\n",
    "\n",
    "*(station of origin, destination)*<br>\n",
    "\n",
    "For example, the trips from West Oakland to Balboa Park are in the first DataFrame."
   ]
  },
  {
   "cell_type": "code",
   "execution_count": 24,
   "metadata": {
    "collapsed": false
   },
   "outputs": [
    {
     "name": "stdout",
     "output_type": "stream",
     "text": [
      "First key : ('WOAK', 'BALB')\n"
     ]
    }
   ],
   "source": [
    "print 'First key :', dfs.keys()[0]"
   ]
  },
  {
   "cell_type": "markdown",
   "metadata": {},
   "source": [
    "The DataFrame with this key is Period-Indexed hourly and its sole column **'pass'** represents the number of passengers that had previously entered at some previous time to WOAK, and exited BALB during the indexed hour.\n",
    "\n",
    "For example, on New Year's Eve, in the hour between 23:00 and midnight, 5 passengers exited at Balboa Park who had entered the system at West Oakland."
   ]
  },
  {
   "cell_type": "code",
   "execution_count": 23,
   "metadata": {
    "collapsed": false
   },
   "outputs": [
    {
     "name": "stdout",
     "output_type": "stream",
     "text": [
      "                  pass\n",
      "2011-12-31 19:00     1\n",
      "2011-12-31 20:00     1\n",
      "2011-12-31 21:00     1\n",
      "2011-12-31 22:00     2\n",
      "2011-12-31 23:00     5\n"
     ]
    }
   ],
   "source": [
    "print dfs[('WOAK', 'BALB')].tail()"
   ]
  },
  {
   "cell_type": "markdown",
   "metadata": {},
   "source": [
    "I used data combined from this DataFrame and all others starting originating from West Oakland by using the iterator of keys:"
   ]
  },
  {
   "cell_type": "code",
   "execution_count": 3,
   "metadata": {
    "collapsed": false
   },
   "outputs": [
    {
     "name": "stdout",
     "output_type": "stream",
     "text": [
      "[('WOAK', 'BALB'), ('WOAK', 'DBRK'), ('WOAK', 'ORIN'), ('WOAK', 'HAYW'), ('WOAK', 'SSAN'), ('WOAK', 'FTVL'), ('WOAK', 'SANL'), ('WOAK', 'DUBL'), ('WOAK', '12TH'), ('WOAK', 'COLS'), ('WOAK', 'MCAR'), ('WOAK', 'RICH'), ('WOAK', 'LAKE'), ('WOAK', 'WOAK'), ('WOAK', 'FRMT'), ('WOAK', 'COLM'), ('WOAK', 'MONT'), ('WOAK', 'POWL'), ('WOAK', 'CIVC'), ('WOAK', 'PLZA'), ('WOAK', 'CONC'), ('WOAK', '19TH'), ('WOAK', 'SHAY'), ('WOAK', 'ROCK'), ('WOAK', 'SBRN'), ('WOAK', 'UCTY'), ('WOAK', 'PHIL'), ('WOAK', 'WDUB'), ('WOAK', '24TH'), ('WOAK', 'DELN'), ('WOAK', 'PITT'), ('WOAK', 'SFIA'), ('WOAK', 'NCON'), ('WOAK', 'EMBR'), ('WOAK', '16TH'), ('WOAK', 'DALY'), ('WOAK', 'CAST'), ('WOAK', 'BAYF'), ('WOAK', 'MLBR'), ('WOAK', 'LAFY'), ('WOAK', 'ASHB'), ('WOAK', 'NBRK'), ('WOAK', 'WCRK'), ('WOAK', 'GLEN')]\n"
     ]
    }
   ],
   "source": [
    "woak_keys = filter(lambda (soo, dest): soo == 'WOAK', dfs.iterkeys())\n",
    "print woak_keys"
   ]
  },
  {
   "cell_type": "markdown",
   "metadata": {},
   "source": [
    "I collected all the DataFrames corresponding to these keys into a smaller dictionary, and mashed them all together column-wise to make a single DataFrame representing every trip over every hour of 2011 that has WOAK as the station of origin."
   ]
  },
  {
   "cell_type": "code",
   "execution_count": 4,
   "metadata": {
    "collapsed": true
   },
   "outputs": [],
   "source": [
    "woak_dict = {key[1] : dfs[key] for key in woak_keys}\n",
    "woak_df = pd.concat(woak_dict, axis = 1)\n",
    "# drop previous column name 'pass'\n",
    "woak_df.columns = woak_df.columns.droplevel(1)"
   ]
  },
  {
   "cell_type": "markdown",
   "metadata": {},
   "source": [
    "The new DataFrame **woak_df** now has 44 columns, each identified by the station code of the destination. "
   ]
  },
  {
   "cell_type": "code",
   "execution_count": 38,
   "metadata": {
    "collapsed": false
   },
   "outputs": [
    {
     "name": "stdout",
     "output_type": "stream",
     "text": [
      "                  12TH  16TH  19TH  24TH  ASHB  BALB  BAYF  CAST  CIVC  COLM  \\\n",
      "2011-12-31 19:00     8    24     1    15     2     1     2     0    38     0   \n",
      "2011-12-31 20:00     2    19     3    13     0     1     0     0    41     0   \n",
      "2011-12-31 21:00     5    19     3    17     2     1     2     0    38     0   \n",
      "2011-12-31 22:00     1    33     9    14     0     2     0     0    38     0   \n",
      "2011-12-31 23:00     0    28     0     7     3     5     1     0    38     0   \n",
      "\n",
      "                  ...   ROCK  SANL  SBRN  SFIA  SHAY  SSAN  UCTY  WCRK  WDUB  \\\n",
      "2011-12-31 19:00  ...      0     1     0     2     0     1     1     0     0   \n",
      "2011-12-31 20:00  ...      0     0     2     1     1     1     0     0     0   \n",
      "2011-12-31 21:00  ...      0     2     0     0     0     1     0     0     0   \n",
      "2011-12-31 22:00  ...      0     1     0     1     1     0     0     0     0   \n",
      "2011-12-31 23:00  ...      0     0     0     0     2     0     0     0     0   \n",
      "\n",
      "                  WOAK  \n",
      "2011-12-31 19:00     0  \n",
      "2011-12-31 20:00     1  \n",
      "2011-12-31 21:00     1  \n",
      "2011-12-31 22:00     2  \n",
      "2011-12-31 23:00     3  \n",
      "\n",
      "[5 rows x 44 columns]\n"
     ]
    }
   ],
   "source": [
    "print woak_df.tail()"
   ]
  },
  {
   "cell_type": "markdown",
   "metadata": {},
   "source": [
    "Note above that the final column is WOAK itself. This column's values represent the count of 'excursions' that entered and exited West Oakland!"
   ]
  },
  {
   "cell_type": "markdown",
   "metadata": {},
   "source": [
    "# Exploratory Data Analysis Caveats"
   ]
  },
  {
   "cell_type": "markdown",
   "metadata": {},
   "source": [
    "For each destination column of our DataFrame, relevant summary statistics are listed below: "
   ]
  },
  {
   "cell_type": "code",
   "execution_count": 49,
   "metadata": {
    "collapsed": false,
    "scrolled": true
   },
   "outputs": [
    {
     "name": "stdout",
     "output_type": "stream",
     "text": [
      "              12TH         16TH         19TH         24TH         ASHB  \\\n",
      "count  8760.000000  8760.000000  8760.000000  8760.000000  8760.000000   \n",
      "mean      3.457534     7.123744     2.281050     5.327854     1.420320   \n",
      "std       5.902625     7.424298     3.213314     5.768455     2.733728   \n",
      "min       0.000000     0.000000     0.000000     0.000000     0.000000   \n",
      "25%       0.000000     1.000000     0.000000     1.000000     0.000000   \n",
      "50%       2.000000     6.000000     1.000000     4.000000     1.000000   \n",
      "75%       5.000000    11.000000     4.000000     8.000000     2.000000   \n",
      "max     288.000000   128.000000   109.000000   170.000000   108.000000   \n",
      "\n",
      "             BALB         BAYF         CAST         CIVC         COLM  \\\n",
      "count  8760.00000  8760.000000  8760.000000  8760.000000  8760.000000   \n",
      "mean      2.63242     1.698174     0.336758    17.464384     0.440411   \n",
      "std       3.52834     1.975127     0.669714    21.311232     0.793777   \n",
      "min       0.00000     0.000000     0.000000     0.000000     0.000000   \n",
      "25%       0.00000     0.000000     0.000000     3.000000     0.000000   \n",
      "50%       1.00000     1.000000     0.000000    12.000000     0.000000   \n",
      "75%       4.00000     3.000000     1.000000    22.000000     1.000000   \n",
      "max      34.00000    33.000000     6.000000   268.000000     7.000000   \n",
      "\n",
      "          ...              ROCK         SANL         SBRN         SFIA  \\\n",
      "count     ...       8760.000000  8760.000000  8760.000000  8760.000000   \n",
      "mean      ...          1.173744     1.432420     0.578767     2.112557   \n",
      "std       ...          2.423238     1.696655     0.982415     2.466282   \n",
      "min       ...          0.000000     0.000000     0.000000     0.000000   \n",
      "25%       ...          0.000000     0.000000     0.000000     0.000000   \n",
      "50%       ...          0.000000     1.000000     0.000000     1.000000   \n",
      "75%       ...          2.000000     2.000000     1.000000     3.000000   \n",
      "max       ...         94.000000    18.000000     8.000000    18.000000   \n",
      "\n",
      "              SHAY         SSAN         UCTY         WCRK         WDUB  \\\n",
      "count  8760.000000  8760.000000  8760.000000  8760.000000  8760.000000   \n",
      "mean      0.687329     0.322374     0.607420     0.617123     0.200000   \n",
      "std       1.095122     0.652186     0.966792     1.163426     0.515276   \n",
      "min       0.000000     0.000000     0.000000     0.000000     0.000000   \n",
      "25%       0.000000     0.000000     0.000000     0.000000     0.000000   \n",
      "50%       0.000000     0.000000     0.000000     0.000000     0.000000   \n",
      "75%       1.000000     0.000000     1.000000     1.000000     0.000000   \n",
      "max       9.000000     6.000000    19.000000    15.000000     5.000000   \n",
      "\n",
      "              WOAK  \n",
      "count  8760.000000  \n",
      "mean      0.473630  \n",
      "std       0.965077  \n",
      "min       0.000000  \n",
      "25%       0.000000  \n",
      "50%       0.000000  \n",
      "75%       1.000000  \n",
      "max      36.000000  \n",
      "\n",
      "[8 rows x 44 columns]\n"
     ]
    }
   ],
   "source": [
    "print woak_df.describe()"
   ]
  },
  {
   "cell_type": "markdown",
   "metadata": {},
   "source": [
    "Some general notes:\n",
    "* There are 8760 values in each column, since there are 24 hours x 365 days in 2011.<br>\n",
    "* Judging by many of the 50th percentile statistics there is an abundance of values equal to 0.<br> \n",
    "* Many of these zeros were filled into the original data to give the continuous hourly Period-Indexing desired for easy dataframe merging.\n",
    "\n",
    "Some possible ramifications of the zero-filling that I considered:\n",
    "1. This might be a bad inference, for example on days OCT15-16 where there was no data for the station. \n",
    "2. BART is typically closed for a few hours each morning. While 0s are a good inference, they have the same implication as no business on open hours.\n",
    "3. Statistics based on hourly rates may be unfair representations, or may be misinterpreted."
   ]
  },
  {
   "cell_type": "markdown",
   "metadata": {},
   "source": [
    "# An interesting observation"
   ]
  },
  {
   "cell_type": "markdown",
   "metadata": {},
   "source": [
    "Consider the two trips I've specifically mentioned thus far: *(WOAK,BALB) and (WOAK,WOAK)*<br>\n",
    "\n",
    "The mean amount of trips per hour to Balboa Park is 2.63, and the mean amount of Excursions per hour is 0.47."
   ]
  },
  {
   "cell_type": "code",
   "execution_count": 175,
   "metadata": {
    "collapsed": false
   },
   "outputs": [
    {
     "name": "stdout",
     "output_type": "stream",
     "text": [
      "BALB    2.63242\n",
      "WOAK    0.47363\n",
      "dtype: float64\n"
     ]
    }
   ],
   "source": [
    "print woak_df[['BALB', 'WOAK']].mean()"
   ]
  },
  {
   "cell_type": "markdown",
   "metadata": {},
   "source": [
    "However, the maximum observed trips for each of these routes is surprisingly similar:"
   ]
  },
  {
   "cell_type": "code",
   "execution_count": 176,
   "metadata": {
    "collapsed": false
   },
   "outputs": [
    {
     "name": "stdout",
     "output_type": "stream",
     "text": [
      "BALB    34\n",
      "WOAK    36\n",
      "dtype: int64\n"
     ]
    }
   ],
   "source": [
    "print woak_df[['BALB', 'WOAK']].max()  "
   ]
  },
  {
   "cell_type": "markdown",
   "metadata": {},
   "source": [
    "This is an example of the sort of peculiar looking data that motivated me to dig deeper into the excursion data to see if this was statistically significant or not.<br>*Is it reasonable to assume that the count of excursions in an hour might be 36 when it's typically 0 or 1 for a given hour?*"
   ]
  },
  {
   "cell_type": "markdown",
   "metadata": {},
   "source": [
    "# Big Picture"
   ]
  },
  {
   "cell_type": "markdown",
   "metadata": {},
   "source": [
    "Though I was motivated by single peculiar observations, I wanted to have the full picture by considering all of the data in aggregation.<br> No better way to do this than visualizing it."
   ]
  },
  {
   "cell_type": "code",
   "execution_count": 5,
   "metadata": {
    "collapsed": true
   },
   "outputs": [],
   "source": [
    "import matplotlib.pyplot as plt\n",
    "import seaborn as sns\n",
    "\n",
    "%matplotlib inline"
   ]
  },
  {
   "cell_type": "markdown",
   "metadata": {},
   "source": [
    "The first thing I wanted to know is : does the data for WOAK excursions look random?"
   ]
  },
  {
   "cell_type": "code",
   "execution_count": 257,
   "metadata": {
    "collapsed": false
   },
   "outputs": [
    {
     "data": {
      "image/png": "[encoded data removed]",
      "text/plain": [
       "<matplotlib.figure.Figure at 0x14d3567d0>"
      ]
     },
     "metadata": {},
     "output_type": "display_data"
    }
   ],
   "source": [
    "excursions = woak_df['WOAK']\n",
    "excursions.plot()\n",
    "plt.title('West Oakland Excursions in 2011'), plt.ylabel('Excursions in an hour')\n",
    "plt.show()"
   ]
  },
  {
   "cell_type": "markdown",
   "metadata": {},
   "source": [
    "The data from the barchart appears to random, except for a couple observations that are obvious outliers.<br>Distribution of these total counts are binned below and visualized in the the following histogram: "
   ]
  },
  {
   "cell_type": "code",
   "execution_count": 255,
   "metadata": {
    "collapsed": false
   },
   "outputs": [
    {
     "data": {
      "text/plain": [
       "0     5950\n",
       "1     1936\n",
       "2      617\n",
       "3      174\n",
       "4       48\n",
       "5       16\n",
       "6       10\n",
       "7        2\n",
       "8        1\n",
       "9        2\n",
       "10       1\n",
       "11       1\n",
       "28       1\n",
       "36       1\n",
       "Name: WOAK, dtype: int64"
      ]
     },
     "execution_count": 255,
     "metadata": {},
     "output_type": "execute_result"
    }
   ],
   "source": [
    "binned = excursions.value_counts().sort_index()\n",
    "binned"
   ]
  },
  {
   "cell_type": "code",
   "execution_count": 198,
   "metadata": {
    "collapsed": false,
    "scrolled": false
   },
   "outputs": [
    {
     "data": {
      "image/png": "[encoded data removed]",
      "text/plain": [
       "<matplotlib.figure.Figure at 0x119b85890>"
      ]
     },
     "metadata": {},
     "output_type": "display_data"
    }
   ],
   "source": [
    "plt.figure(figsize=(10,4))\n",
    "sns.distplot(excursions, kde = False, norm_hist= True, bins = excursions.max()) \n",
    "plt.title('Histogram: Excursions'), plt.xlabel('Excursions observed per hour'), plt.ylabel('Proportion of all hours')\n",
    "plt.show()"
   ]
  },
  {
   "cell_type": "markdown",
   "metadata": {},
   "source": [
    "Not only did outliers evidence themselves on the barchart, but they also look very out of place on the binned table, and they positively ruin the histogram's proportionality aesthetics! I'm convinced the data at this one station is already telling me that it's not random, but I want to statistically prove it."
   ]
  },
  {
   "cell_type": "markdown",
   "metadata": {},
   "source": [
    "# How random?"
   ]
  },
  {
   "cell_type": "markdown",
   "metadata": {},
   "source": [
    "To answer this, I defined the probability of an excursion from West Oakland being = sum of all excursions/sum of all entries to the station.<br> The interpretation is: given you entered the station, what's the chance that you exit it as well?"
   ]
  },
  {
   "cell_type": "code",
   "execution_count": 7,
   "metadata": {
    "collapsed": false
   },
   "outputs": [
    {
     "data": {
      "text/plain": [
       "0.0024811462189879147"
      ]
     },
     "execution_count": 7,
     "metadata": {},
     "output_type": "execute_result"
    }
   ],
   "source": [
    "all_by_hr = woak_df.sum(axis = 1)\n",
    "p_excursion = excursions.sum()/float(all_by_hr.sum())\n",
    "p_excursion"
   ]
  },
  {
   "cell_type": "markdown",
   "metadata": {},
   "source": [
    "I made the assumption that any given person who enters the station has this roughly quarter-percent chance of exiting it as well, and their chance is not dependent on anything else or anyone else (is independently and identically distributed).<br>\n",
    "\n",
    "The expectation values for amount of excursions, given the orignal total hourly trips data, would be:"
   ]
  },
  {
   "cell_type": "code",
   "execution_count": 9,
   "metadata": {
    "collapsed": false
   },
   "outputs": [
    {
     "data": {
      "text/plain": [
       "0    5430\n",
       "1    2672\n",
       "2     550\n",
       "3     106\n",
       "4       2\n",
       "dtype: int64"
      ]
     },
     "execution_count": 9,
     "metadata": {},
     "output_type": "execute_result"
    }
   ],
   "source": [
    "E_excursions = (p_excursion * all_by_hr).round().astype('int')\n",
    "E_excursions.value_counts()"
   ]
  },
  {
   "cell_type": "markdown",
   "metadata": {},
   "source": [
    "By expectation values alone, the highest is 4 excursions in one hour.<br>\n",
    "Try not to get too excited by this, because it's more of a benchmark for what to expect, not necessarily an estimation of what it could be."
   ]
  },
  {
   "cell_type": "code",
   "execution_count": 192,
   "metadata": {
    "collapsed": false,
    "scrolled": true
   },
   "outputs": [
    {
     "name": "stdout",
     "output_type": "stream",
     "text": [
      "Peak entries occurred at : 2011-11-02 19:00\n",
      "Total entries to WOAK during this hour : 1651\n",
      "Expected value of excursions this hour :  4.09637240755\n",
      "Total observed excursions in this hour :  0\n"
     ]
    }
   ],
   "source": [
    "busiest_hour = all_by_hr.argmax()\n",
    "print 'Peak entries occurred at :', busiest_hour\n",
    "print 'Total entries to WOAK during this hour :', woak_df.ix[busiest_hour].sum()\n",
    "print 'Expected value of excursions this hour : ', p_excursion * all_by_hr[busiest_hour]\n",
    "print 'Total observed excursions in this hour : ', woak_df.ix[busiest_hour, 'WOAK']"
   ]
  },
  {
   "cell_type": "markdown",
   "metadata": {},
   "source": [
    "So the busiest hour overall for the year actually had *zero* excursions occur. Given that there were 1651 entries, what's the likelihood that it would be exactly 0? Using the binomial probability mass function with p = 0.00248 of success, n = 1651 chances, and k = 0 successes:\n"
   ]
  },
  {
   "cell_type": "markdown",
   "metadata": {},
   "source": [
    "$$binom.pmf(k) = choose(n, k) * p^k * (1-p)^(n-k)$$\n",
    " $$ = 1 *(1 - p)^(1651)$$            "
   ]
  },
  {
   "cell_type": "code",
   "execution_count": 8,
   "metadata": {
    "collapsed": false
   },
   "outputs": [
    {
     "data": {
      "text/plain": [
       "0.016548452624289521"
      ]
     },
     "execution_count": 8,
     "metadata": {},
     "output_type": "execute_result"
    }
   ],
   "source": [
    "import scipy.stats as scs\n",
    "scs.binom.pmf(n = 1651, k = 0, p = p_excursion)"
   ]
  },
  {
   "cell_type": "markdown",
   "metadata": {},
   "source": [
    "There was a 1.65% chance of that occurring, which isn't anything to scream about, but what about our outlier values, like 36?"
   ]
  },
  {
   "cell_type": "code",
   "execution_count": 259,
   "metadata": {
    "collapsed": false
   },
   "outputs": [
    {
     "name": "stdout",
     "output_type": "stream",
     "text": [
      "Unusual excursions occurred at : 2011-12-12 05:00\n",
      "Total entries to WOAK during this hour :  192\n",
      "Expected value of excursions this hour :  0.476380074046\n",
      "Total observed excursions in this hour :  36\n"
     ]
    }
   ],
   "source": [
    "unusual_hour = excursions.argmax()\n",
    "print 'Unusual excursions occurred at :', unusual_hour\n",
    "print 'Total entries to WOAK during this hour : ', woak_df.ix[unusual_hour].sum()\n",
    "print 'Expected value of excursions this hour : ', p_excursion * all_by_hr[unusual_hour]\n",
    "print 'Total observed excursions in this hour : ', woak_df.ix[unusual_hour, 'WOAK']"
   ]
  },
  {
   "cell_type": "markdown",
   "metadata": {},
   "source": [
    "Crunch the probability on this observation below. (I use the survival function + the pmf). Interpret this as the probability of seeing 36 or anything higher."
   ]
  },
  {
   "cell_type": "code",
   "execution_count": 249,
   "metadata": {
    "collapsed": false
   },
   "outputs": [
    {
     "name": "stdout",
     "output_type": "stream",
     "text": [
      "1.41274037684e-55\n"
     ]
    }
   ],
   "source": [
    "prob_36 = scs.binom.pmf(n = 192, k = 36, p = p_excursion)\n",
    "prob_37andup = scs.binom.sf(n = 192, k = 36, p = p_excursion)\n",
    "prob_36andup = prob_37andup + prob_36\n",
    "print prob_36andup"
   ]
  },
  {
   "cell_type": "markdown",
   "metadata": {},
   "source": [
    "I believe way to evaluate this probability is to say, \"Given the null hypothesis that the random binomial variables are i.i.d., an observation of 36 or higher is... \". Yeah, just not gonna happen. We'd reject the null hypothesis based on this observation."
   ]
  },
  {
   "cell_type": "markdown",
   "metadata": {},
   "source": [
    "# What would random look like?"
   ]
  },
  {
   "cell_type": "markdown",
   "metadata": {},
   "source": [
    "To do this, I ran a simulation of random binomial variables with the assumed probability of excursion, with the total hourly data from 2011 as an input."
   ]
  },
  {
   "cell_type": "code",
   "execution_count": 9,
   "metadata": {
    "collapsed": false
   },
   "outputs": [
    {
     "data": {
      "text/plain": [
       "0    6017\n",
       "1    1798\n",
       "2     618\n",
       "3     202\n",
       "4      79\n",
       "5      31\n",
       "6      11\n",
       "7       2\n",
       "9       2\n",
       "dtype: int64"
      ]
     },
     "execution_count": 9,
     "metadata": {},
     "output_type": "execute_result"
    }
   ],
   "source": [
    "# Simulate binomial random variables for every hour of 2011:\n",
    "sim_excursions = scs.binom(n = all_by_hr, p = p_excursion).rvs()\n",
    "binned_sims = pd.Series(sim_excursions).value_counts()\n",
    "binned_sims"
   ]
  },
  {
   "cell_type": "code",
   "execution_count": 199,
   "metadata": {
    "collapsed": false,
    "scrolled": true
   },
   "outputs": [
    {
     "data": {
      "image/png": "[encoded data removed]",
      "text/plain": [
       "<matplotlib.figure.Figure at 0x11a987810>"
      ]
     },
     "metadata": {},
     "output_type": "display_data"
    }
   ],
   "source": [
    "sns.distplot(sim_excursions, kde = False, norm_hist= True, bins = sim_excursions.max())\n",
    "plt.ylabel('Proportion of all hours')\n",
    "plt.xlabel('Excursions simulated in an hour')\n",
    "plt.title('Histogram: Simulated Excursions')\n",
    "plt.show()"
   ]
  },
  {
   "cell_type": "markdown",
   "metadata": {},
   "source": [
    "This histogram above looks similar to the one representing our distribution of real excursions. \n",
    "The binomial distribution with the ~0.25% probability seems to model the real data decently well until some of the more unusual values are found, which is why the x-scale doesn't go up to 40 like that of the real data.<br> "
   ]
  },
  {
   "cell_type": "code",
   "execution_count": 248,
   "metadata": {
    "collapsed": false
   },
   "outputs": [
    {
     "data": {
      "image/png": "[encoded data removed]",
      "text/plain": [
       "<matplotlib.figure.Figure at 0x11a01bbd0>"
      ]
     },
     "metadata": {},
     "output_type": "display_data"
    }
   ],
   "source": [
    "comparisons = pd.concat({'real' : binned, 'sim' : binned_sims}, axis = 1)\n",
    "comparisons.plot(kind = 'bar')\n",
    "plt.xlabel('Excursions in an hour')\n",
    "plt.ylabel('Observed Count')\n",
    "plt.title('Real vs. Simulated excursions')\n",
    "plt.show()"
   ]
  },
  {
   "cell_type": "markdown",
   "metadata": {},
   "source": [
    "Side-by-side comparison of the real vs. simulated excursion data which were used for the chart above:\n",
    "\n",
    "N.B.: NaN simply means the simulated data did not have any observations with that count of excursions in the index. Of course, we see the 28 and 36 sticking out like sore thumbs, as they are highly improbable events under the given assumptions. This particular simulation generates no hour with excursions > 9. "
   ]
  },
  {
   "cell_type": "code",
   "execution_count": 260,
   "metadata": {
    "collapsed": false
   },
   "outputs": [
    {
     "name": "stdout",
     "output_type": "stream",
     "text": [
      "    real   sim\n",
      "0   5950  6017\n",
      "1   1936  1798\n",
      "2    617   618\n",
      "3    174   202\n",
      "4     48    79\n",
      "5     16    31\n",
      "6     10    11\n",
      "7      2     2\n",
      "8      1   NaN\n",
      "9      2     2\n",
      "10     1   NaN\n",
      "11     1   NaN\n",
      "28     1   NaN\n",
      "36     1   NaN\n"
     ]
    }
   ],
   "source": [
    "print comparisons"
   ]
  },
  {
   "cell_type": "markdown",
   "metadata": {},
   "source": [
    "This was only one simulation, and we can't necessarily say that it alone will discredit the plusability of the very high totals. But what about 1 simulation for every year BART has been in operation? The maximum observation of excursions in any one hour for each of those years is generally in the 7 - 10 range. "
   ]
  },
  {
   "cell_type": "code",
   "execution_count": 202,
   "metadata": {
    "collapsed": false
   },
   "outputs": [
    {
     "name": "stdout",
     "output_type": "stream",
     "text": [
      "[8, 9, 8, 8, 8, 8, 7, 8, 9, 8, 7, 9, 8, 8, 8, 7, 7, 10, 7, 9, 7, 7, 9, 8, 9, 8, 10, 10, 7, 8, 8, 8, 9, 8, 9, 10, 9, 7, 8, 8, 6, 8, 10, 8]\n"
     ]
    }
   ],
   "source": [
    "print [scs.binom(n = all_by_hr, p = p_excursion).rvs().max() for _ in xrange(1972, 2016)]    "
   ]
  },
  {
   "cell_type": "markdown",
   "metadata": {},
   "source": [
    "In summary, the binomial distribution is appropriate for modeling the vast majority of the excursion data, assuming the probability of an excursion, given entry at WOAK station is ~0.25%, and based on that. However, based on that, some of the data seem impossible, such as 36 excursions in a single hour of 2011. "
   ]
  },
  {
   "cell_type": "markdown",
   "metadata": {},
   "source": [
    "# Looking for answers"
   ]
  },
  {
   "cell_type": "markdown",
   "metadata": {},
   "source": [
    "I will set out to look for answers to why hours may occur in which a significant amount of BART users incur an Excursion Fee in the next segment of the project. For now here are a couple motivating findings:"
   ]
  },
  {
   "cell_type": "markdown",
   "metadata": {},
   "source": [
    "There's no explanation given by the relationship between excursions vs. the amount of other trips taken that hour. One might assume if excursions in an hour were a random variable, it would vary proportionally to the amount of other trips. You can see this generally from the simulation data on the right. However, the real data tells another, more interesting story."
   ]
  },
  {
   "cell_type": "code",
   "execution_count": 245,
   "metadata": {
    "collapsed": false
   },
   "outputs": [
    {
     "data": {
      "image/png": "[encoded data removed]",
      "text/plain": [
       "<matplotlib.figure.Figure at 0x11a6cde50>"
      ]
     },
     "metadata": {},
     "output_type": "display_data"
    }
   ],
   "source": [
    "other_trips = woak_df.drop('WOAK', axis = 1).sum(axis = 1)\n",
    "plt.figure(figsize=(12,4))\n",
    "plt.subplot(1,2,1) \n",
    "plt.scatter(x = other_trips.values, y = excursions.values, alpha = .25, c = 'k')\n",
    "plt.ylabel('Excursions'), plt.xlabel('Other Trips'), plt.title('Real Hours')\n",
    "plt.subplot(1,2,2)\n",
    "plt.scatter(x = other_trips, y = sim_excursions, alpha = .25, c = 'b')\n",
    "plt.ylim((-5, 40))\n",
    "plt.ylabel('Excursions'), plt.xlabel('Other Trips'), plt.title('Simulated Hours')\n",
    "plt.tight_layout()"
   ]
  },
  {
   "cell_type": "markdown",
   "metadata": {},
   "source": [
    "*** (teaser for next time: WHY ARE THERE 3 CLUMPS?) ***"
   ]
  },
  {
   "cell_type": "markdown",
   "metadata": {},
   "source": [
    "I've also started exploring the most unusual observations of excursions to get hints as to where to look for patterns. They are summarized in the table below. \n",
    "\n",
    "N.B.: **excur**, **prob**, and **tot** refer to:<br>\n",
    "the # of excursions, the probability of that observation, and the total number of trips that occurred during that hour (excursion inclusive), respectively."
   ]
  },
  {
   "cell_type": "code",
   "execution_count": 266,
   "metadata": {
    "collapsed": false
   },
   "outputs": [
    {
     "data": {
      "text/html": [
       "<div>\n",
       "<table border=\"1\" class=\"dataframe\">\n",
       "  <thead>\n",
       "    <tr style=\"text-align: right;\">\n",
       "      <th></th>\n",
       "      <th>excur</th>\n",
       "      <th>prob</th>\n",
       "      <th>tot</th>\n",
       "    </tr>\n",
       "  </thead>\n",
       "  <tbody>\n",
       "    <tr>\n",
       "      <th>2011-01-01 02:00</th>\n",
       "      <td>7</td>\n",
       "      <td>4.538872e-11</td>\n",
       "      <td>49</td>\n",
       "    </tr>\n",
       "    <tr>\n",
       "      <th>2011-01-16 23:00</th>\n",
       "      <td>6</td>\n",
       "      <td>6.016775e-10</td>\n",
       "      <td>38</td>\n",
       "    </tr>\n",
       "    <tr>\n",
       "      <th>2011-02-09 23:00</th>\n",
       "      <td>7</td>\n",
       "      <td>2.846647e-11</td>\n",
       "      <td>46</td>\n",
       "    </tr>\n",
       "    <tr>\n",
       "      <th>2011-02-18 17:00</th>\n",
       "      <td>10</td>\n",
       "      <td>1.496189e-10</td>\n",
       "      <td>203</td>\n",
       "    </tr>\n",
       "    <tr>\n",
       "      <th>2011-02-18 18:00</th>\n",
       "      <td>28</td>\n",
       "      <td>9.374841e-46</td>\n",
       "      <td>127</td>\n",
       "    </tr>\n",
       "    <tr>\n",
       "      <th>2011-03-12 05:00</th>\n",
       "      <td>3</td>\n",
       "      <td>1.527415e-08</td>\n",
       "      <td>3</td>\n",
       "    </tr>\n",
       "    <tr>\n",
       "      <th>2011-03-14 04:00</th>\n",
       "      <td>11</td>\n",
       "      <td>1.703307e-27</td>\n",
       "      <td>13</td>\n",
       "    </tr>\n",
       "    <tr>\n",
       "      <th>2011-05-29 22:00</th>\n",
       "      <td>5</td>\n",
       "      <td>4.583694e-07</td>\n",
       "      <td>60</td>\n",
       "    </tr>\n",
       "    <tr>\n",
       "      <th>2011-08-08 20:00</th>\n",
       "      <td>5</td>\n",
       "      <td>1.790681e-08</td>\n",
       "      <td>32</td>\n",
       "    </tr>\n",
       "    <tr>\n",
       "      <th>2011-09-12 22:00</th>\n",
       "      <td>5</td>\n",
       "      <td>9.950376e-07</td>\n",
       "      <td>70</td>\n",
       "    </tr>\n",
       "    <tr>\n",
       "      <th>2011-10-20 05:00</th>\n",
       "      <td>9</td>\n",
       "      <td>2.574074e-10</td>\n",
       "      <td>153</td>\n",
       "    </tr>\n",
       "    <tr>\n",
       "      <th>2011-11-21 22:00</th>\n",
       "      <td>5</td>\n",
       "      <td>4.210397e-07</td>\n",
       "      <td>59</td>\n",
       "    </tr>\n",
       "    <tr>\n",
       "      <th>2011-12-12 04:00</th>\n",
       "      <td>8</td>\n",
       "      <td>5.201154e-14</td>\n",
       "      <td>37</td>\n",
       "    </tr>\n",
       "    <tr>\n",
       "      <th>2011-12-12 05:00</th>\n",
       "      <td>36</td>\n",
       "      <td>1.412740e-55</td>\n",
       "      <td>192</td>\n",
       "    </tr>\n",
       "  </tbody>\n",
       "</table>\n",
       "</div>"
      ],
      "text/plain": [
       "                  excur          prob  tot\n",
       "2011-01-01 02:00      7  4.538872e-11   49\n",
       "2011-01-16 23:00      6  6.016775e-10   38\n",
       "2011-02-09 23:00      7  2.846647e-11   46\n",
       "2011-02-18 17:00     10  1.496189e-10  203\n",
       "2011-02-18 18:00     28  9.374841e-46  127\n",
       "2011-03-12 05:00      3  1.527415e-08    3\n",
       "2011-03-14 04:00     11  1.703307e-27   13\n",
       "2011-05-29 22:00      5  4.583694e-07   60\n",
       "2011-08-08 20:00      5  1.790681e-08   32\n",
       "2011-09-12 22:00      5  9.950376e-07   70\n",
       "2011-10-20 05:00      9  2.574074e-10  153\n",
       "2011-11-21 22:00      5  4.210397e-07   59\n",
       "2011-12-12 04:00      8  5.201154e-14   37\n",
       "2011-12-12 05:00     36  1.412740e-55  192"
      ]
     },
     "execution_count": 266,
     "metadata": {},
     "output_type": "execute_result"
    }
   ],
   "source": [
    "sfs = scs.binom(n = all_by_hr, p = p_excursion).sf(excursions) \n",
    "pmfs = scs.binom(n = all_by_hr, p = p_excursion).pmf(excursions) \n",
    "probs = sfs + pmfs\n",
    "# series of probabilities of observed # excursions or greater\n",
    "probs = pd.Series(probs, index = excursions.index)\n",
    "excur_probs = pd.concat({'tot' : all_by_hr, 'excur' : excursions, 'prob' : probs}, axis = 1)\n",
    "# Bonferroni Adjustment\n",
    "bonf_sig = excur_probs['prob'] < .05/len(excur_probs)\n",
    "excur_probs[bonf_sig]"
   ]
  },
  {
   "cell_type": "markdown",
   "metadata": {},
   "source": [
    "### If you have any feedback, even if you are not interested in data science or math, I would love to hear it!<br>I am interested in ideas especially with regard to what these unusual events may represent. If you are a BART user, worker, or have looked at/worked with this data as well, please do share! Thanks."
   ]
  },
  {
   "cell_type": "markdown",
   "metadata": {},
   "source": [
    "Want to see more data, more years, more stations? That's coming too."
   ]
  }
 ],
 "metadata": {
  "kernelspec": {
   "display_name": "Python 2",
   "language": "python",
   "name": "python2"
  },
  "language_info": {
   "codemirror_mode": {
    "name": "ipython",
    "version": 2
   },
   "file_extension": ".py",
   "mimetype": "text/x-python",
   "name": "python",
   "nbconvert_exporter": "python",
   "pygments_lexer": "ipython2",
   "version": "2.7.11"
  }
 },
 "nbformat": 4,
 "nbformat_minor": 0
}
